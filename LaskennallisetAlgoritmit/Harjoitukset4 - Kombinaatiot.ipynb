{
 "cells": [
  {
   "cell_type": "markdown",
   "id": "5b59417f-1573-4916-95d7-cf54242f83aa",
   "metadata": {},
   "source": [
    "Tehtävä1"
   ]
  },
  {
   "cell_type": "code",
   "execution_count": 1,
   "id": "e9b268fb-3ba1-487c-9ea3-531f73a346d1",
   "metadata": {},
   "outputs": [
    {
     "data": {
      "text/plain": [
       "8"
      ]
     },
     "execution_count": 1,
     "metadata": {},
     "output_type": "execute_result"
    }
   ],
   "source": [
    "def ncomb(n):\n",
    "    import math\n",
    "    result = 0\n",
    "    for i in range(n+1):\n",
    "        result += math.comb(n,i)\n",
    "    return result\n",
    "ncomb(3)"
   ]
  },
  {
   "cell_type": "markdown",
   "id": "b3beac9e-e411-495f-8d79-621fff46bf3c",
   "metadata": {},
   "source": [
    "Tehtävä2"
   ]
  },
  {
   "cell_type": "code",
   "execution_count": 2,
   "id": "5c76fa3b-dc89-4360-a746-b14ed7fd19e5",
   "metadata": {},
   "outputs": [
    {
     "data": {
      "text/plain": [
       "16"
      ]
     },
     "execution_count": 2,
     "metadata": {},
     "output_type": "execute_result"
    }
   ],
   "source": [
    "def ncomb_of_comb(n):\n",
    "    tulos = 2**n\n",
    "    result = 2**tulos\n",
    "    return result\n",
    "ncomb_of_comb(2)"
   ]
  },
  {
   "cell_type": "markdown",
   "id": "0eae2ee4-c02b-4917-8f64-76805e40c070",
   "metadata": {},
   "source": [
    "Tehtävä3"
   ]
  },
  {
   "cell_type": "code",
   "execution_count": 3,
   "id": "ac85f632-823c-4c9e-bb27-7a1a6086070f",
   "metadata": {},
   "outputs": [
    {
     "data": {
      "text/plain": [
       "[[1], [2], [3], [1, 2], [1, 3], [2, 3], [1, 2, 3]]"
      ]
     },
     "execution_count": 3,
     "metadata": {},
     "output_type": "execute_result"
    }
   ],
   "source": [
    "def makecomb(a):\n",
    "    import itertools as it\n",
    "    combs = []\n",
    "    for i in range(len(a)+1):\n",
    "        for combination in it.combinations(a,i):\n",
    "            combs.append(combination)\n",
    "    for i in range(len(combs)):\n",
    "        combs[i] = list(combs[i])\n",
    "    result = [a for a in combs if a]\n",
    "    for i in range(len(result)):\n",
    "        result[i].sort()\n",
    "    result.sort(key=lambda x: (len(x),sum(x)))\n",
    "        \n",
    "    \n",
    "    return result\n",
    "makecomb([1,2,3])"
   ]
  },
  {
   "cell_type": "markdown",
   "id": "02f66af2-422a-4c82-bad8-9f5b413b1459",
   "metadata": {},
   "source": [
    "Tehtävä4"
   ]
  },
  {
   "cell_type": "code",
   "execution_count": 8,
   "id": "54226774-c28f-4a11-9228-df8e861cb198",
   "metadata": {},
   "outputs": [
    {
     "data": {
      "text/plain": [
       "[[1], [2], [3], [1, 2], [1, 3], [2, 3], [1, 2, 3]]"
      ]
     },
     "execution_count": 8,
     "metadata": {},
     "output_type": "execute_result"
    }
   ],
   "source": [
    "def combinations(lista):\n",
    "    lst = [[]]\n",
    "    for i in range(len(lista)):\n",
    "        first = lista[i]\n",
    "        rem = lista[i+1:]\n",
    "        comblist = combinations(rem)\n",
    "        for x in comblist:\n",
    "            lst.append([first]+x)\n",
    "    return lst\n",
    "def makecomb(a):\n",
    "    combs = combinations(a)     \n",
    "    for i in range(len(combs)):\n",
    "        combs[i] = list(combs[i])\n",
    "    result = [a for a in combs if a]\n",
    "    for i in range(len(result)):\n",
    "        result[i].sort()\n",
    "    result.sort(key=lambda x: (len(x),sum(x)))\n",
    "    return result\n",
    "makecomb([1,2,3])"
   ]
  },
  {
   "cell_type": "code",
   "execution_count": 7,
   "id": "891cbe27-fb1f-43c6-8500-9b56624cdee1",
   "metadata": {},
   "outputs": [
    {
     "data": {
      "text/plain": [
       "[[], [1], [1, 2], [1, 2, 3], [1, 3], [2], [2, 3], [3]]"
      ]
     },
     "execution_count": 7,
     "metadata": {},
     "output_type": "execute_result"
    }
   ],
   "source": [
    "def combinations(lista):\n",
    "    lst = [[]]\n",
    "    for i in range(len(lista)):\n",
    "        first = lista[i]\n",
    "        rem = lista[i+1:]\n",
    "        comblist = combinations(rem)\n",
    "        for x in comblist:\n",
    "            lst.append([first]+x)\n",
    "    return lst\n",
    "\n",
    "def test(a):\n",
    "    combs = combinations(a)  \n",
    "    return combs\n",
    "        \n",
    "    \n",
    "test([1,2,3])"
   ]
  },
  {
   "cell_type": "code",
   "execution_count": null,
   "id": "afee2e19-06b8-45b7-be63-3f3bf45fac69",
   "metadata": {},
   "outputs": [],
   "source": []
  }
 ],
 "metadata": {
  "kernelspec": {
   "display_name": "Python 3 (ipykernel)",
   "language": "python",
   "name": "python3"
  },
  "language_info": {
   "codemirror_mode": {
    "name": "ipython",
    "version": 3
   },
   "file_extension": ".py",
   "mimetype": "text/x-python",
   "name": "python",
   "nbconvert_exporter": "python",
   "pygments_lexer": "ipython3",
   "version": "3.9.13"
  }
 },
 "nbformat": 4,
 "nbformat_minor": 5
}
