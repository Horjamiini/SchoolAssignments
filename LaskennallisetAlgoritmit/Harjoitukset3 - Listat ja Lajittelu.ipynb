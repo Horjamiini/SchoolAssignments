{
 "cells": [
  {
   "cell_type": "markdown",
   "id": "ed9da8df",
   "metadata": {},
   "source": [
    "Tehtävä1"
   ]
  },
  {
   "cell_type": "code",
   "execution_count": 1,
   "id": "067ab3c7",
   "metadata": {},
   "outputs": [
    {
     "data": {
      "text/plain": [
       "[2, 3, 9, 25, 44, 45, 78]"
      ]
     },
     "execution_count": 1,
     "metadata": {},
     "output_type": "execute_result"
    }
   ],
   "source": [
    "a = [78,2,25,45,9,3,44]\n",
    "def lajittele1d(a):\n",
    "    for i in range(1, len(a)):  \n",
    "        alkuluku = a[i]  \n",
    "        j = i - 1  \n",
    "        while j >= 0 and alkuluku < a[j]:  \n",
    "            a[j + 1] = a[j]  \n",
    "            j -= 1  \n",
    "        a[j + 1] = alkuluku  \n",
    "    return a\n",
    "    \n",
    "    \n",
    "lajittele1d(a)"
   ]
  },
  {
   "cell_type": "markdown",
   "id": "8ecdd781-b473-4c53-b880-e0c3a9854fa5",
   "metadata": {},
   "source": [
    "Tehtävä2"
   ]
  },
  {
   "cell_type": "code",
   "execution_count": 2,
   "id": "3c7dbc26-88a1-4114-81af-9465f91207ce",
   "metadata": {},
   "outputs": [
    {
     "data": {
      "text/plain": [
       "[[1], [2], [3], [4], [1, 2], [1, 3], [2, 3], [1, 2, 3]]"
      ]
     },
     "execution_count": 2,
     "metadata": {},
     "output_type": "execute_result"
    }
   ],
   "source": [
    "a = [[1],[3,2,1],[2],[2,1],[],[4],[3],[3,1],[3,2]]\n",
    "def select(seq, start):\n",
    "    minIndex = start\n",
    "    for j in range(start+1, len(seq)):\n",
    "        if seq[minIndex] > seq[j]:\n",
    "            minIndex = j\n",
    "    return minIndex\n",
    "def selsort(a):   \n",
    "    for i in range(len(a)):\n",
    "        minIndex = select(a,i)\n",
    "        tmp = a[i]\n",
    "        a[i] = a[minIndex]\n",
    "        a[minIndex] = tmp\n",
    "    return a\n",
    "\n",
    "def lajittele2d(a):\n",
    "    a = [a for a in a if a] \n",
    "    for i in range(len(a)):\n",
    "        a[i] = selsort(a[i])\n",
    "     \n",
    "    lengths_arr = [(sublist,len(sublist), sum(sublist)) for sublist in a]\n",
    "    for i in range(len(lengths_arr)):\n",
    "        for j in range(len(lengths_arr)-1):\n",
    "            if lengths_arr[j][1] > lengths_arr[j+1][1]:\n",
    "                temp = lengths_arr[j]\n",
    "                lengths_arr[j] = lengths_arr[j+1]\n",
    "                lengths_arr[j+1] = temp\n",
    "            elif lengths_arr[j][1] == lengths_arr[j+1][1] and lengths_arr[j][2] > lengths_arr[j+1][2]:\n",
    "                temp = lengths_arr[j]\n",
    "                lengths_arr[j] = lengths_arr[j+1]\n",
    "                lengths_arr[j+1] = temp\n",
    "                \n",
    "    result = [sublist for sublist, length, sum in lengths_arr]\n",
    "    return result\n",
    "lajittele2d(a)"
   ]
  },
  {
   "cell_type": "markdown",
   "id": "34e38c92-9f2c-48a5-acd9-6245c5b79ab9",
   "metadata": {},
   "source": [
    "Tehtävä3"
   ]
  },
  {
   "cell_type": "code",
   "execution_count": 3,
   "id": "58f8595c-e8d8-4b4a-aaa5-c804feb2b85f",
   "metadata": {},
   "outputs": [
    {
     "data": {
      "text/plain": [
       "[[1], [2], [3], [4], [1, 2], [1, 3], [2, 3], [1, 2, 3]]"
      ]
     },
     "execution_count": 3,
     "metadata": {},
     "output_type": "execute_result"
    }
   ],
   "source": [
    "def testi(a):\n",
    "    result = [a for a in a if a]\n",
    "    for i in range(len(result)):\n",
    "        result[i].sort()\n",
    "    result.sort(key=lambda x: (len(x),sum(x)))\n",
    "    return result\n",
    "testi([[1],[3,2,1],[2],[2,1],[],[4],[3],[3,1],[3,2]])"
   ]
  },
  {
   "cell_type": "markdown",
   "id": "b46944d9-93b5-4b12-b188-235f987b9c56",
   "metadata": {},
   "source": [
    "Tehtävä4"
   ]
  },
  {
   "cell_type": "code",
   "execution_count": 4,
   "id": "4504091b-a62a-4b27-98d6-d2b26fbe8f54",
   "metadata": {},
   "outputs": [
    {
     "data": {
      "text/plain": [
       "[[[1], [2], [3]], [[3], [1, 2]], [[2], [1, 3]], [[1], [2, 3]], [[1, 2, 3]]]"
      ]
     },
     "execution_count": 4,
     "metadata": {},
     "output_type": "execute_result"
    }
   ],
   "source": [
    "def lajittele3D(a):\n",
    "    result = ([a for a in a if a])\n",
    "    for i in range(len(result)):\n",
    "        a[i].sort(key= lambda x: (len(x),sum(x)))\n",
    "        for j in range(len(a[i])):\n",
    "            a[i][j].sort()\n",
    "    return result\n",
    "lajittele3D([[[3], [2], [1]], [[3], [2, 1]], [[3, 1], [2]], [[3, 2], [1]], [[3, 2, 1]]])"
   ]
  },
  {
   "cell_type": "markdown",
   "id": "b390fe59-2b72-46bf-b8a6-373ca1cb29fc",
   "metadata": {},
   "source": [
    "Tehtävä5"
   ]
  },
  {
   "cell_type": "code",
   "execution_count": 5,
   "id": "730995fc-5955-48fe-88b9-099cd1c2d4d0",
   "metadata": {},
   "outputs": [
    {
     "data": {
      "text/plain": [
       "[[[1], [2], [3]], [[3], [1, 2]], [[2], [1, 3]], [[1], [2, 3]], [[1, 2, 3]]]"
      ]
     },
     "execution_count": 5,
     "metadata": {},
     "output_type": "execute_result"
    }
   ],
   "source": [
    "def lajittele3D(a):\n",
    "    result = ([a for a in a if a])\n",
    "    for i in range(len(result)):\n",
    "        a[i].sort(key= lambda x: (len(x),sum(x)))\n",
    "        for j in range(len(a[i])):\n",
    "            a[i][j].sort()\n",
    "    return result\n",
    "lajittele3D([[[3], [2], [1]], [[3], [2, 1]], [[3, 1], [2]], [[3, 2], [1]], [[3, 2, 1]]])"
   ]
  },
  {
   "cell_type": "markdown",
   "id": "86a5293f-e5c0-48ef-9059-b3740844e590",
   "metadata": {},
   "source": [
    "Tehtävä5 - Valmis"
   ]
  },
  {
   "cell_type": "code",
   "execution_count": 20,
   "id": "84711d77-4acb-43fb-957c-d84809b83e63",
   "metadata": {},
   "outputs": [
    {
     "data": {
      "text/plain": [
       "[[[1], [2], [3]], [[1], [2, 3]], [[2], [1, 3]], [[3], [1, 2]], [[1, 2, 3]]]"
      ]
     },
     "execution_count": 20,
     "metadata": {},
     "output_type": "execute_result"
    }
   ],
   "source": [
    "def lajittelu(sortedlist):\n",
    "    N = 0\n",
    "    luku = 0\n",
    "    s = 0\n",
    "    lst = []\n",
    "    for i in range(len(sortedlist)):\n",
    "        N += sum(sortedlist[i])\n",
    "    j = len(sortedlist)\n",
    "    for i in range(j):\n",
    "        luku += -len(sortedlist[i]) * sum(sortedlist[i]) * N**(i)\n",
    "    lst.append(luku)\n",
    "    return lst\n",
    "            \n",
    "        \n",
    "    \n",
    "def lajittele3D(a):\n",
    "    lst = []\n",
    "    result = ([a for a in a if a])\n",
    "    for i in range(len(result)):\n",
    "        result[i].sort(key= lambda x: (len(x),sum(x)))\n",
    "        for j in range(len(result[i])):\n",
    "            result[i][j].sort()\n",
    "    sum_arr = result\n",
    "    for i in range(len(result)):\n",
    "        lst.append(lajittelu(result[i]))\n",
    "        sum_arr[i].append(lst[i])\n",
    "    for i in range(len(sum_arr)):\n",
    "        for j in range(len(sum_arr)-1):\n",
    "            if sum_arr[j][-1] > sum_arr[j+1][-1]:\n",
    "                temp = sum_arr[j]\n",
    "                sum_arr[j] = sum_arr[j+1]\n",
    "                sum_arr[j+1] = temp\n",
    "    for i in range(len(sum_arr)):\n",
    "        sum_arr[i].pop(-1)\n",
    "    result = sum_arr\n",
    "    return result\n",
    "    \n",
    "    \n",
    "        \n",
    "testi([[[3], [2], [1]], [[3], [2, 1]], [[3, 1], [2]], [[3, 2], [1]], [[3, 2, 1]]])"
   ]
  }
 ],
 "metadata": {
  "kernelspec": {
   "display_name": "Python 3 (ipykernel)",
   "language": "python",
   "name": "python3"
  },
  "language_info": {
   "codemirror_mode": {
    "name": "ipython",
    "version": 3
   },
   "file_extension": ".py",
   "mimetype": "text/x-python",
   "name": "python",
   "nbconvert_exporter": "python",
   "pygments_lexer": "ipython3",
   "version": "3.9.13"
  }
 },
 "nbformat": 4,
 "nbformat_minor": 5
}
