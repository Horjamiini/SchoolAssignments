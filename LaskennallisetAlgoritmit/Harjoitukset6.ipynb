{
 "cells": [
  {
   "cell_type": "markdown",
   "id": "a1a6bcad-1b94-4381-b32d-c17b15ee3480",
   "metadata": {},
   "source": [
    "Tehtävä1"
   ]
  },
  {
   "cell_type": "code",
   "execution_count": 70,
   "id": "6ee4be28-d972-48bf-9a6d-199e4184a779",
   "metadata": {},
   "outputs": [
    {
     "data": {
      "text/plain": [
       "array([[14.86, 29.09,  0.  ,  1.  ],\n",
       "       [13.39, 26.77,  1.  ,  5.  ],\n",
       "       [13.6 , 27.06,  2.  ,  5.  ],\n",
       "       [15.25, 28.05,  3.  ,  1.  ],\n",
       "       [13.92, 26.57,  4.  ,  4.  ]])"
      ]
     },
     "execution_count": 70,
     "metadata": {},
     "output_type": "execute_result"
    }
   ],
   "source": [
    "import numpy as np\n",
    "    \n",
    "def connect(url1, url2):\n",
    "    \n",
    "    xy = np.loadtxt(fname=url1, delimiter=';') # Havainnot\n",
    "    rxy = np.loadtxt(fname=url2, delimiter=';') # Klusterikeskukset\n",
    "    nkl = rxy.shape[0]\n",
    "    zeros = np.zeros((xy.shape[0],nkl))\n",
    "    xy = np.append(xy,zeros,axis=1)\n",
    "    \n",
    "    for j in range(nkl):\n",
    "        xy[:,(4+j)] = (xy[:,0]-rxy[j,0])**2+(xy[:,1]-rxy[j,1])**2\n",
    "        dij = xy[:,4:(4+nkl)]\n",
    "    smi = np.argmin(a=dij,axis=1)\n",
    "    \n",
    "    for j in range(nkl):\n",
    "        xy[j==smi,3] = rxy[j,2]\n",
    "    result = xy[0:5,0:4]\n",
    "    return result\n",
    "\n",
    "connect(\"https://student.labranet.jamk.fi/~huoptu/.alko/.kmeans/data_A.csv\",\"https://student.labranet.jamk.fi/~huoptu/.alko/.kmeans/init_cl_A.csv\")"
   ]
  },
  {
   "cell_type": "code",
   "execution_count": 178,
   "id": "39b6ab8b-da41-4b40-b9ec-7037e593e474",
   "metadata": {},
   "outputs": [
    {
     "name": "stdout",
     "output_type": "stream",
     "text": [
      "8\n"
     ]
    },
    {
     "data": {
      "text/plain": [
       "array([[15.5, 27.9,  1. ],\n",
       "       [18.5, 26.1,  2. ],\n",
       "       [16.5, 22. ,  3. ],\n",
       "       [13.8, 27.6,  4. ],\n",
       "       [12.1, 24.3,  5. ]])"
      ]
     },
     "execution_count": 178,
     "metadata": {},
     "output_type": "execute_result"
    }
   ],
   "source": [
    "import numpy as np\n",
    "import collections\n",
    "    \n",
    "def centers(url1, url2):\n",
    "    \n",
    "    xy = np.loadtxt(fname=url1, delimiter=';') # Havainnot\n",
    "    rxy = np.loadtxt(fname=url2, delimiter=';') # Klusterikeskukset\n",
    "    nkl = rxy.shape[0]\n",
    "    zeros = np.zeros((xy.shape[0],nkl))\n",
    "    xy = np.append(xy,zeros,axis=1)\n",
    "    \n",
    "    for j in range(nkl):\n",
    "        xy[:,(4+j)] = (xy[:,0]-rxy[j,0])**2+(xy[:,1]-rxy[j,1])**2\n",
    "        dij = xy[:,4:(4+nkl)]\n",
    "    smi = np.argmin(a=dij,axis=1)\n",
    "    \n",
    "    for j in range(nkl):\n",
    "        xy[j==smi,3] = rxy[j,2]\n",
    "    result = xy[:,0:4] \n",
    "    \n",
    "    #Havainto arvojen määrä per klusteri:\n",
    "    XYn = collections.Counter(xy[:,3])\n",
    "    \n",
    "    x1 = 0\n",
    "    x2 = 0\n",
    "    x3 = 0\n",
    "    x4 = 0\n",
    "    x5 = 0\n",
    "    y1 = 0\n",
    "    y2 = 0\n",
    "    y3 = 0\n",
    "    y4 = 0\n",
    "    y5 = 0\n",
    "    for i in range(len(xy)):\n",
    "        if xy[i][3] == 1:\n",
    "            x1 += xy[i][0]\n",
    "        elif xy[i][3] == 2:\n",
    "            x2 += xy[i][0]\n",
    "        elif xy[i][3] == 3:\n",
    "            x3 += xy[i][0]\n",
    "        elif xy[i][3] == 4:\n",
    "            x4 += xy[i][0]\n",
    "        elif xy[i][3] == 5:\n",
    "            x5 += xy[i][0]\n",
    "    for i in range(len(xy)):\n",
    "        if xy[i][3] == 1:\n",
    "            y1 += xy[i][1]\n",
    "        elif xy[i][3] == 2:\n",
    "            y2 += xy[i][1]\n",
    "        elif xy[i][3] == 3:\n",
    "            y3 += xy[i][1]\n",
    "        elif xy[i][3] == 4:\n",
    "            y4 += xy[i][1]\n",
    "        elif xy[i][3] == 5:\n",
    "            y5 += xy[i][1]\n",
    "    #Funktio laskettu käsin\n",
    "    X0 = np.round((2*x1)/(XYn[1]*2),1)\n",
    "    X1 = np.round((2*x2)/(XYn[2]*2),1)\n",
    "    X2 = np.round((2*x3)/(XYn[3]*2),1)\n",
    "    X3 = np.round((2*x4)/(XYn[4]*2),1)\n",
    "    X4 = np.round((2*x5)/(XYn[5]*2),1)\n",
    "    Y0 = np.round((2*y1)/(XYn[1]*2),1)\n",
    "    Y1 = np.round((2*y2)/(XYn[2]*2),1)\n",
    "    Y2 = np.round((2*y3)/(XYn[3]*2),1)\n",
    "    Y3 = np.round((2*y4)/(XYn[4]*2),1)\n",
    "    Y4 = np.round((2*y5)/(XYn[5]*2),1)\n",
    "    lst = [[X0,X1,X2,X3,X4],[Y0,Y1,Y2,Y3,Y4]]\n",
    "    for i in range(len(rxy)):\n",
    "        rxy[i][0] = lst[0][i]\n",
    "        rxy[i][1] = lst[1][i]\n",
    "\n",
    "    result = rxy\n",
    "    return result\n",
    "centers(\"https://student.labranet.jamk.fi/~huoptu/.alko/.kmeans/data_A.csv\",\"https://student.labranet.jamk.fi/~huoptu/.alko/.kmeans/init_cl_A.csv\")"
   ]
  }
 ],
 "metadata": {
  "kernelspec": {
   "display_name": "Python 3 (ipykernel)",
   "language": "python",
   "name": "python3"
  },
  "language_info": {
   "codemirror_mode": {
    "name": "ipython",
    "version": 3
   },
   "file_extension": ".py",
   "mimetype": "text/x-python",
   "name": "python",
   "nbconvert_exporter": "python",
   "pygments_lexer": "ipython3",
   "version": "3.9.13"
  }
 },
 "nbformat": 4,
 "nbformat_minor": 5
}
