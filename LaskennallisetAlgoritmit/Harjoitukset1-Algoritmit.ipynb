{
 "cells": [
  {
   "cell_type": "markdown",
   "id": "a0d28115",
   "metadata": {},
   "source": [
    "ALGORITMIT"
   ]
  },
  {
   "cell_type": "markdown",
   "id": "4d124b6d",
   "metadata": {},
   "source": [
    "Tehtävä1"
   ]
  },
  {
   "cell_type": "code",
   "execution_count": 1,
   "id": "6e091849",
   "metadata": {},
   "outputs": [
    {
     "data": {
      "text/plain": [
       "251"
      ]
     },
     "execution_count": 1,
     "metadata": {},
     "output_type": "execute_result"
    }
   ],
   "source": [
    "def F(x):\n",
    "    tulos = 2 * x**3 + 1\n",
    "    return tulos\n",
    "F(5)"
   ]
  },
  {
   "cell_type": "markdown",
   "id": "0b3a7f78",
   "metadata": {},
   "source": [
    "Tehtävä2"
   ]
  },
  {
   "cell_type": "code",
   "execution_count": 5,
   "id": "cf041250",
   "metadata": {},
   "outputs": [
    {
     "name": "stdout",
     "output_type": "stream",
     "text": [
      "0:012\n",
      "1:012\n",
      "2:012\n"
     ]
    }
   ],
   "source": [
    "def taulukko(n,m):\n",
    "    for i in range(n):\n",
    "        tulos = f\"{i}:\"\n",
    "        for j in range(m):\n",
    "            tulos += f\"{j}\"\n",
    "        print(tulos)\n",
    "        \n",
    "taulukko(3,3)"
   ]
  },
  {
   "cell_type": "markdown",
   "id": "570b859e",
   "metadata": {},
   "source": [
    "Tehtävä3"
   ]
  },
  {
   "cell_type": "code",
   "execution_count": 3,
   "id": "def8d4b8",
   "metadata": {},
   "outputs": [
    {
     "name": "stdout",
     "output_type": "stream",
     "text": [
      "0:012\n",
      "1:012\n",
      "2:012\n"
     ]
    }
   ],
   "source": [
    "def taulukko(n,m):\n",
    "    i = 0\n",
    "    while i<n:\n",
    "        j = 0\n",
    "        tulos = f\"{i}:\"\n",
    "        while j<m:\n",
    "            tulos += f\"{j:}\"\n",
    "            j += 1\n",
    "        print(tulos)\n",
    "        i += 1\n",
    "        \n",
    "taulukko(3,3)"
   ]
  },
  {
   "cell_type": "markdown",
   "id": "a7f2a224",
   "metadata": {},
   "source": [
    "Tehtävä4"
   ]
  },
  {
   "cell_type": "code",
   "execution_count": 7,
   "id": "bdf95520",
   "metadata": {},
   "outputs": [
    {
     "name": "stdout",
     "output_type": "stream",
     "text": [
      "3\n",
      "2\n",
      "1\n",
      "0\n"
     ]
    }
   ],
   "source": [
    "def iteroi(a): \n",
    "    for i in range(-1,a):\n",
    "        print(a)\n",
    "        a -= 1\n",
    "iteroi(3)"
   ]
  },
  {
   "cell_type": "markdown",
   "id": "77f7a2e0",
   "metadata": {},
   "source": [
    "Tehtävä5"
   ]
  },
  {
   "cell_type": "code",
   "execution_count": 1,
   "id": "570b81cf",
   "metadata": {},
   "outputs": [
    {
     "name": "stdout",
     "output_type": "stream",
     "text": [
      "3\n",
      "2\n",
      "1\n",
      "0\n"
     ]
    }
   ],
   "source": [
    "def toista(a):\n",
    "        print(a)\n",
    "        a -= 1\n",
    "        if a >= 0:\n",
    "            toista(a)\n",
    "        else:\n",
    "            pass\n",
    "toista(3)"
   ]
  }
 ],
 "metadata": {
  "kernelspec": {
   "display_name": "Python 3 (ipykernel)",
   "language": "python",
   "name": "python3"
  },
  "language_info": {
   "codemirror_mode": {
    "name": "ipython",
    "version": 3
   },
   "file_extension": ".py",
   "mimetype": "text/x-python",
   "name": "python",
   "nbconvert_exporter": "python",
   "pygments_lexer": "ipython3",
   "version": "3.9.13"
  }
 },
 "nbformat": 4,
 "nbformat_minor": 5
}
