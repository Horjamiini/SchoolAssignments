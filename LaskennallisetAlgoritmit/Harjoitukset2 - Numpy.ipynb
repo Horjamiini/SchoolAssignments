{
 "cells": [
  {
   "cell_type": "markdown",
   "id": "df1e9ef6-38dd-4c48-808e-0c29454a8701",
   "metadata": {},
   "source": [
    "Tehtävä1"
   ]
  },
  {
   "cell_type": "code",
   "execution_count": 10,
   "id": "92f95a5f-f3d3-41b6-aad0-aff71e8208ac",
   "metadata": {},
   "outputs": [
    {
     "data": {
      "text/plain": [
       "[35, 57, 9]"
      ]
     },
     "execution_count": 10,
     "metadata": {},
     "output_type": "execute_result"
    }
   ],
   "source": [
    "def calculate_f(a):\n",
    "    lis = []\n",
    "    for i in range(len(a)):\n",
    "        lis.append(3 * (a[i])**2 + a[i] + 5)\n",
    "    return lis\n",
    "calculate_f([3,4,1])"
   ]
  },
  {
   "cell_type": "markdown",
   "id": "65b13d1a-1c8f-4b9c-8609-cb85931ecb44",
   "metadata": {},
   "source": [
    "Tehvtävä2"
   ]
  },
  {
   "cell_type": "code",
   "execution_count": 9,
   "id": "95f300e6-93a8-4493-8c77-c9a59413f2d7",
   "metadata": {},
   "outputs": [
    {
     "data": {
      "text/plain": [
       "array([35, 57,  9])"
      ]
     },
     "execution_count": 9,
     "metadata": {},
     "output_type": "execute_result"
    }
   ],
   "source": [
    "import numpy as np\n",
    "def calculate_numpy(a):\n",
    "    nx = np.array(a)\n",
    "    lis = 3 * nx**2 + nx + 5\n",
    "    return lis\n",
    "calculate_numpy([3,4,1])"
   ]
  },
  {
   "cell_type": "markdown",
   "id": "dc88e211-92ec-43aa-86fc-7e4843cef5cb",
   "metadata": {},
   "source": [
    "Tehtävä3"
   ]
  },
  {
   "cell_type": "code",
   "execution_count": 22,
   "id": "6c2fd4b1-5290-4f16-b1a4-a8c4b946418e",
   "metadata": {},
   "outputs": [
    {
     "data": {
      "text/plain": [
       "[4.45, 6.24, 4.42, 6.9]"
      ]
     },
     "execution_count": 22,
     "metadata": {},
     "output_type": "execute_result"
    }
   ],
   "source": [
    "def calculate_2df(a):\n",
    "    lis = []\n",
    "    for i in range(len(a)):\n",
    "        lis.append(round(8 * (a[i][0])**2 + a[i][1] + 3,2))\n",
    "    return lis\n",
    "calculate_2df([[0.2990532, 0.73814706],[0.53660316, 0.9339861 ],[0.27658672, 0.81012994],[0.6393268, 0.63049207]])"
   ]
  },
  {
   "cell_type": "markdown",
   "id": "5ebac3c0-fc8f-408c-b088-9ce43639ca1d",
   "metadata": {},
   "source": [
    "Tehtävä4"
   ]
  },
  {
   "cell_type": "code",
   "execution_count": 74,
   "id": "bb7ca879-e6a7-414e-9d0e-a4ffa1efef94",
   "metadata": {},
   "outputs": [
    {
     "data": {
      "text/plain": [
       "array([4.45, 6.24, 4.42, 6.9 ])"
      ]
     },
     "execution_count": 74,
     "metadata": {},
     "output_type": "execute_result"
    }
   ],
   "source": [
    "def calculate_numpy(a):\n",
    "    nx = np.array(a)\n",
    "    lis = np.around(8 * (nx[:,0])**2 + nx[:,1] + 3,decimals =2)\n",
    "    return lis\n",
    "    \n",
    "calculate_numpy([[0.2990532, 0.73814706],[0.53660316, 0.9339861 ],[0.27658672, 0.81012994],[0.6393268, 0.63049207]])"
   ]
  },
  {
   "cell_type": "markdown",
   "id": "e8b5a498-10a9-4b18-8632-8b77b92fce23",
   "metadata": {},
   "source": [
    "Tehtävä5"
   ]
  },
  {
   "cell_type": "code",
   "execution_count": 82,
   "id": "e535c527-3480-4d22-9a82-fcd34fb82bd0",
   "metadata": {},
   "outputs": [
    {
     "data": {
      "text/plain": [
       "22.01"
      ]
     },
     "execution_count": 82,
     "metadata": {},
     "output_type": "execute_result"
    }
   ],
   "source": [
    "def numsum(a):\n",
    "    nx = np.array(a)\n",
    "    list = 8 * (nx[:,0])**2 + nx[:,1] + 3,\n",
    "    lis = np.around(np.sum(list),decimals=2)\n",
    "    return lis\n",
    "    \n",
    "    \n",
    "numsum([[0.2990532, 0.73814706],[0.53660316, 0.9339861 ],[0.27658672, 0.81012994],[0.6393268, 0.63049207]])"
   ]
  },
  {
   "cell_type": "markdown",
   "id": "204c5de4",
   "metadata": {},
   "source": [
    "Testi"
   ]
  },
  {
   "cell_type": "code",
   "execution_count": 84,
   "id": "9bd7e3d7-468c-40fa-ba93-c86a7425f576",
   "metadata": {},
   "outputs": [
    {
     "data": {
      "text/plain": [
       "array([0.2990532 , 0.53660316, 0.27658672, 0.6393268 ])"
      ]
     },
     "execution_count": 84,
     "metadata": {},
     "output_type": "execute_result"
    }
   ],
   "source": [
    "def testi(a):\n",
    "    nx = np.array(a)\n",
    "    return nx[:,0]\n",
    "    \n",
    "    \n",
    "testi([[0.2990532, 0.73814706],[0.53660316, 0.9339861 ],[0.27658672, 0.81012994],[0.6393268, 0.63049207]])"
   ]
  }
 ],
 "metadata": {
  "kernelspec": {
   "display_name": "Python 3 (ipykernel)",
   "language": "python",
   "name": "python3"
  },
  "language_info": {
   "codemirror_mode": {
    "name": "ipython",
    "version": 3
   },
   "file_extension": ".py",
   "mimetype": "text/x-python",
   "name": "python",
   "nbconvert_exporter": "python",
   "pygments_lexer": "ipython3",
   "version": "3.9.13"
  }
 },
 "nbformat": 4,
 "nbformat_minor": 5
}
