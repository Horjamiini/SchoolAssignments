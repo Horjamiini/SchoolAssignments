{
 "cells": [
  {
   "cell_type": "markdown",
   "id": "2cbf1285-098d-4815-bf5a-a19761dd8769",
   "metadata": {},
   "source": [
    "Tehtävä1"
   ]
  },
  {
   "cell_type": "code",
   "execution_count": 11,
   "id": "6fbb5099-142c-4048-acf5-bb899436ca6a",
   "metadata": {},
   "outputs": [
    {
     "data": {
      "text/plain": [
       "[14.9, 12.6]"
      ]
     },
     "execution_count": 11,
     "metadata": {},
     "output_type": "execute_result"
    }
   ],
   "source": [
    "import numpy as np\n",
    "\n",
    "def findmin():\n",
    "    \n",
    "    # Kirjoita vastauksesi tähän alle:\n",
    "    #f(x,y)=2(x−18)2+xy+(y−20)2\n",
    "    # Kovin montaa riviä ei tulisi kirjoittaa analyyttisessä ratkaisuvaihtoehdossa :D\n",
    "    # Jos päädyt ratkaisemaan tehtävän numeerisesti, niin kirjoitetun vastauksen pituus on hieman pidempi kuin analyyttisessä ratkaisuvaihtoehdossa.\n",
    "    xmin = round(104/7,1)\n",
    "    ymin = round(88/7,1)\n",
    "    result = [xmin,ymin]\n",
    "    # ...\n",
    "    # Huom. Vastauksessasi ei saa esiintyä print komentoja.\n",
    "    # ...\n",
    "    \n",
    "    # Funktion tulee palauttaa lopputulos muuttujassa result.\n",
    "    \n",
    "    return result\n",
    "findmin()"
   ]
  },
  {
   "cell_type": "markdown",
   "id": "889c3e31-8713-4a71-b221-c3074e9f6a00",
   "metadata": {},
   "source": [
    "Tehtävä2"
   ]
  },
  {
   "cell_type": "code",
   "execution_count": 6,
   "id": "6c37d67c-baf9-4bd6-9884-f2dda54159be",
   "metadata": {},
   "outputs": [
    {
     "data": {
      "text/plain": [
       "[-6.7, 40.0]"
      ]
     },
     "execution_count": 6,
     "metadata": {},
     "output_type": "execute_result"
    }
   ],
   "source": [
    "import numpy as np\n",
    "\n",
    "def findmin():\n",
    "    \n",
    "    xmin = round(-20/3,1)\n",
    "    ymin = round(float(40),1)\n",
    "    result = [xmin,ymin]\n",
    "\n",
    "    \n",
    "    return result\n",
    "findmin()"
   ]
  },
  {
   "cell_type": "markdown",
   "id": "df9dc03e-8ddb-4ba7-938d-8cc2ce3f5cd9",
   "metadata": {},
   "source": [
    "Tehtävä3"
   ]
  },
  {
   "cell_type": "code",
   "execution_count": 72,
   "id": "67b65f51-eef4-4598-8e68-4ddf66178bf9",
   "metadata": {},
   "outputs": [
    {
     "data": {
      "text/plain": [
       "array([[[329.9901    , 270.5615    , 277.278     , ..., 337.1946    ,\n",
       "         395.7159    , 206.4213    ],\n",
       "        [330.16255518, 271.29404003, 277.93052791, ..., 336.44120063,\n",
       "         394.04807639, 208.20923801],\n",
       "        [330.37130253, 272.06287223, 278.61934798, ..., 335.72409344,\n",
       "         392.41654495, 210.03346819],\n",
       "        ...,\n",
       "        [515.69461566, 510.59424596, 509.54957021, ..., 433.09122475,\n",
       "         402.91337324, 548.82765001],\n",
       "        [519.38741174, 514.8471269 , 513.72243902, ..., 435.85816629,\n",
       "         404.76589053, 554.13592892],\n",
       "        [523.1165    , 519.1363    , 517.9316    , ..., 438.6614    ,\n",
       "         406.6547    , 559.4805    ]],\n",
       "\n",
       "       [[329.22296261, 270.25180099, 276.91112119, ..., 337.08404442,\n",
       "         396.04109392, 207.27097069],\n",
       "        [329.40480834, 270.99373157, 277.57303965, ..., 336.34003561,\n",
       "         394.38266086, 209.06829924],\n",
       "        [329.62294624, 271.77195432, 278.27125028, ..., 335.63231897,\n",
       "         392.76051998, 210.90191998],\n",
       "        ...,\n",
       "        [515.83836181, 511.1954305 , 510.09357494, ..., 433.89155272,\n",
       "         404.1494507 , 550.58820423],\n",
       "        [519.54054844, 515.45770198, 514.2758343 , ..., 436.66788481,\n",
       "         406.01135855, 555.9058737 ],\n",
       "        [523.27902725, 519.75626564, 518.49438584, ..., 439.48050907,\n",
       "         407.90955857, 561.25983533]],\n",
       "\n",
       "       [[328.47526355, 269.96154032, 276.56368073, ..., 336.99292719,\n",
       "         396.38572618, 208.14007972],\n",
       "        [328.66649984, 270.71286145, 277.23498974, ..., 336.25830893,\n",
       "         394.73668368, 209.94679883],\n",
       "        [328.89402829, 271.50047476, 277.94259092, ..., 335.55998284,\n",
       "         393.12393334, 211.78981011],\n",
       "        ...,\n",
       "        [516.0015463 , 511.81605337, 510.65701802, ..., 434.71131903,\n",
       "         405.4049665 , 552.36819681],\n",
       "        [519.71312349, 516.08771541, 514.84866793, ..., 437.49704167,\n",
       "         407.2762649 , 557.69525682],\n",
       "        [523.46099285, 520.39566962, 519.07661002, ..., 440.31905648,\n",
       "         409.18385547, 563.05860901]],\n",
       "\n",
       "       ...,\n",
       "\n",
       "       [[346.0826979 , 331.02562113, 332.19568073, ..., 416.97563426,\n",
       "         517.76463527, 379.34428174],\n",
       "        [347.16603662, 332.6690447 , 333.75909217, ..., 417.13311844,\n",
       "         517.0076952 , 382.04310329],\n",
       "        [348.28566751, 334.34876044, 335.3587958 , ..., 417.32689479,\n",
       "         516.28704731, 384.77821701],\n",
       "        ...,\n",
       "        [620.14291718, 659.41407072, 652.82295456, ..., 601.22796264,\n",
       "         613.31781213, 810.10633536],\n",
       "        [624.74659681, 664.57783519, 657.90670691, ..., 604.90578772,\n",
       "         616.08121297, 816.32549782],\n",
       "        [629.38656861, 669.77789184, 663.02675143, ..., 608.61990497,\n",
       "         618.88090598, 822.58095244]],\n",
       "\n",
       "       [[347.20107978, 332.60144139, 333.71432119, ..., 418.75059796,\n",
       "         519.97534846, 382.0794717 ],\n",
       "        [348.29380905, 334.25425551, 335.28712319, ..., 418.91747269,\n",
       "         519.22779895, 384.7876838 ],\n",
       "        [349.4228305 , 335.94336181, 336.89621737, ..., 419.12063959,\n",
       "         518.51654161, 387.53218807],\n",
       "        ...,\n",
       "        [622.1721826 , 661.90077452, 655.25247856, ..., 603.91380988,\n",
       "         616.43940887, 813.75240887],\n",
       "        [626.78525278, 667.07392955, 660.34562147, ..., 607.60102551,\n",
       "         619.21220026, 819.98096187],\n",
       "        [631.43461513, 672.28337675, 665.47505655, ..., 611.32453331,\n",
       "         622.02128382, 826.24580705]],\n",
       "\n",
       "       [[348.3389    , 334.1967    , 335.2524    , ..., 420.545     ,\n",
       "         522.2055    , 384.8341    ],\n",
       "        [349.44101982, 335.85890467, 336.83459255, ..., 420.72126528,\n",
       "         521.46734104, 387.55170265],\n",
       "        [350.57943182, 337.55740152, 338.45307728, ..., 420.93382273,\n",
       "         520.76547425, 390.30559748],\n",
       "        ...,\n",
       "        [624.22088637, 664.40691667, 657.70144091, ..., 606.61909546,\n",
       "         619.58044394, 817.41792071],\n",
       "        [628.8433471 , 669.58946225, 662.80397437, ..., 610.31570164,\n",
       "         622.36262589, 823.65586427],\n",
       "        [633.5021    , 674.8083    , 667.9428    , ..., 614.0486    ,\n",
       "         625.1811    , 829.9301    ]]])"
      ]
     },
     "execution_count": 74,
     "metadata": {},
     "output_type": "execute_result"
    }
   ],
   "source": [
    "import numpy as np\n",
    "    \n",
    "def findmin(url):\n",
    "    \n",
    "    xy = np.loadtxt(fname=url, delimiter=';', usecols=(0,1))\n",
    "    return result\n",
    "    idt = np.arange(1,xy.shape[0] + 1)\n",
    "    idt = np.array([idt])\n",
    "    xy = np.append(xy,idt.T, axis=1)\n",
    "    \n",
    "    kl = 3\n",
    "    d = xy\n",
    "    \n",
    "    res = 100\n",
    "    xd = np.linspace(np.amin(d[:,0]),np.amax(d[:,0]),res)\n",
    "    yd = np.linspace(np.amin(d[:,1]),np.amax(d[:,1]),res)\n",
    "    xv,yv = np.meshgrid(xd,yd)\n",
    "    \n",
    "    N = d.shape[0]\n",
    "    xlkm = xv.shape[0]\n",
    "    ylkm = xv.shape[1]\n",
    "    \n",
    "    f = np.zeros((xlkm,ylkm,N))\n",
    "    \n",
    "    for i in range(N):\n",
    "        f[:,:,i] = 2*(xv - d[i,0])**2 + xv*yv + (yv - d[i,1])**2\n",
    "        \n",
    "    ind = np.unravel_index(np.argmin(f, axis=None), f.shape)\n",
    "    return ind\n",
    "findmin(\"https://student.labranet.jamk.fi/~huoptu/.alko/.kmeans/data_A.csv\")"
   ]
  },
  {
   "cell_type": "code",
   "execution_count": 187,
   "id": "f8a237f3-e110-4e31-820d-87e319029e9b",
   "metadata": {},
   "outputs": [
    {
     "data": {
      "text/plain": [
       "[10.2, 19.9]"
      ]
     },
     "execution_count": 187,
     "metadata": {},
     "output_type": "execute_result"
    }
   ],
   "source": [
    "import numpy as np\n",
    "from scipy.optimize import minimize\n",
    "\n",
    "def F(X,Y,xy):\n",
    "    sum = 0\n",
    "    for i in range(len(xy)):\n",
    "        xi = xy[i][0]\n",
    "        yi = xy[i][1]\n",
    "        sum += 2*(X-xi)**2 + X*Y + (Y- yi)**2\n",
    "    return sum\n",
    "    \n",
    "def findmin(url):\n",
    "    \n",
    "    xy = np.loadtxt(fname=url, delimiter=';', usecols=(0,1))\n",
    "    x_max = np.max(xy[:,0])\n",
    "    y_max = np.max(xy[:,1])\n",
    "    result = minimize(lambda args: F(args[0],args[1],xy),[x_max/2,y_max/2],bounds=((0,x_max),(0,y_max)))\n",
    "    return [round(result.x[0],1),round(result.x[1],1)]\n",
    "findmin(\"https://student.labranet.jamk.fi/~huoptu/.alko/.kmeans/data_A.csv\")"
   ]
  },
  {
   "cell_type": "code",
   "execution_count": 177,
   "id": "b3d41e73-26cf-4ff8-a4c3-0bc6391441b7",
   "metadata": {},
   "outputs": [
    {
     "name": "stdout",
     "output_type": "stream",
     "text": [
      "29.78\n"
     ]
    },
    {
     "data": {
      "text/plain": [
       "[10.2, 19.9]"
      ]
     },
     "execution_count": 177,
     "metadata": {},
     "output_type": "execute_result"
    }
   ],
   "source": [
    "import numpy as np\n",
    "from scipy.optimize import minimize\n",
    "\n",
    "def F(X, Y, xy):\n",
    "    sum = 0\n",
    "    for i in range(len(xy)):\n",
    "        xi = xy[i][0]\n",
    "        yi = xy[i][1]\n",
    "        sum += 2*(X-xi)**2 + X*Y + (Y-yi)**2\n",
    "    return sum\n",
    "\n",
    "def findmin(url):\n",
    "    xy = np.loadtxt(fname=url, delimiter=';', usecols=(0,1))\n",
    "    max_x = np.max(xy[:,0])\n",
    "    max_y = np.max(xy[:,1])\n",
    "    result = minimize(lambda z: F(z[0], z[1], xy), [max_x/2, max_y/2], bounds=((0, max_x), (0, max_y)))\n",
    "    return [round(result.x[0], 1), round(result.x[1], 1)]\n",
    "findmin(\"https://student.labranet.jamk.fi/~huoptu/.alko/.kmeans/data_A.csv\")"
   ]
  },
  {
   "cell_type": "markdown",
   "id": "f16be6cb-f273-4c5e-83c3-72661cb2c84c",
   "metadata": {},
   "source": [
    "Tehtävä4"
   ]
  },
  {
   "cell_type": "code",
   "execution_count": null,
   "id": "e9bbb942-b81d-4751-a765-0a8ac79cf8c5",
   "metadata": {},
   "outputs": [],
   "source": []
  }
 ],
 "metadata": {
  "kernelspec": {
   "display_name": "Python 3 (ipykernel)",
   "language": "python",
   "name": "python3"
  },
  "language_info": {
   "codemirror_mode": {
    "name": "ipython",
    "version": 3
   },
   "file_extension": ".py",
   "mimetype": "text/x-python",
   "name": "python",
   "nbconvert_exporter": "python",
   "pygments_lexer": "ipython3",
   "version": "3.9.13"
  }
 },
 "nbformat": 4,
 "nbformat_minor": 5
}
