{
 "cells": [
  {
   "cell_type": "markdown",
   "id": "d36dd3c0-5181-406b-bdc9-fbc8b2dd22ea",
   "metadata": {},
   "source": [
    "Tehtävä1"
   ]
  },
  {
   "cell_type": "code",
   "execution_count": 1,
   "id": "52f1a8b5-6deb-4272-805a-85270298d324",
   "metadata": {},
   "outputs": [
    {
     "name": "stdout",
     "output_type": "stream",
     "text": [
      "          kunta  maapinta-ala  kokonaispinta-ala  Väkiluku\n",
      "65        Jämsä       1571.36            1823.90     20607\n",
      "92       Keuruu       1257.97            1430.57      9762\n",
      "234  Saarijärvi       1251.72            1422.72      9415\n",
      "298  Viitasaari       1248.55            1589.12      6264\n",
      "63    Jyväskylä       1170.97            1466.35    141305\n"
     ]
    }
   ],
   "source": [
    "import pandas as pd\n",
    "def ks_kunnat(url): \n",
    "    df = pd.read_csv(url,sep=';',decimal=',')    \n",
    "    ks_df = df[(df[\"maakunta\"] == \"Keski-Suomi\") & (df[\"kokonaispinta-ala\"] > 1000)]\n",
    "    ks_df = ks_df[[\"kunta\",\"maapinta-ala\",\"kokonaispinta-ala\",\"Väkiluku\"]]\n",
    "    ks_df = ks_df.sort_values(by=['maapinta-ala'],ascending=False)\n",
    "    tulos = ks_df.head()\n",
    "    print(tulos)\n",
    "ks_kunnat(\"https://student.labranet.jamk.fi/~pelju/data_av/sources/kunnat.csv\")"
   ]
  },
  {
   "cell_type": "markdown",
   "id": "615fdf77-2847-4b87-b84e-e5b9000187b6",
   "metadata": {},
   "source": [
    "Tehtävät2"
   ]
  },
  {
   "cell_type": "code",
   "execution_count": 2,
   "id": "7416f84e-92d0-4830-855c-12d2e6a5b454",
   "metadata": {},
   "outputs": [
    {
     "name": "stdout",
     "output_type": "stream",
     "text": [
      "            maakunta       kunta  Väkiluku\n",
      "22   Keski-Pohjanmaa      Halsua      1165\n",
      "75   Keski-Pohjanmaa      Kannus      5502\n",
      "84   Keski-Pohjanmaa   Kaustinen      4273\n",
      "136  Keski-Pohjanmaa  Lestijärvi       737\n",
      "191  Keski-Pohjanmaa       Perho      2825\n"
     ]
    }
   ],
   "source": [
    "def kunnat(url):\n",
    "    import pandas as pd\n",
    "    df = pd.read_csv(url,sep=';',decimal=',')\n",
    "    ks2_df = df[(df[\"maakunta\"] == \"Keski-Suomi\") & (df[\"Väkiluku\"] < 10000) | (df[\"maakunta\"] == \"Uusimaa\") & (df[\"Väkiluku\"] < 10000) | (df[\"maakunta\"] == \"Keski-Pohjanmaa\") & (df[\"Väkiluku\"] < 10000)]\n",
    "    newks_df = ks2_df.sort_values(by=['maakunta','kunta'])\n",
    "    newks_df = newks_df[[\"maakunta\",\"kunta\",\"Väkiluku\"]]\n",
    "    tulos = newks_df.head()\n",
    "    print(tulos)\n",
    "kunnat(\"https://student.labranet.jamk.fi/~pelju/data_av/sources/kunnat.csv\")"
   ]
  },
  {
   "cell_type": "markdown",
   "id": "a9b2f71b-0c19-44cc-9928-beb8033ed9b8",
   "metadata": {},
   "source": [
    "Tehtävä3"
   ]
  },
  {
   "cell_type": "code",
   "execution_count": 15,
   "id": "680d780b-b07f-4a6a-a25a-5d757ccf2cf8",
   "metadata": {},
   "outputs": [
    {
     "name": "stdout",
     "output_type": "stream",
     "text": [
      "            kunta         maakunta  vesipinta-ala  kokonaispinta-ala  Väkiluku\n",
      "185      Parainen  Varsinais-Suomi        4664.99            5548.11     15217\n",
      "286  Uusikaupunki  Varsinais-Suomi        1429.68            1932.43     15700\n",
      "241    Savonlinna       Etelä-Savo        1359.61            3597.70     33611\n",
      "157       Mikkeli       Etelä-Savo         681.21            3229.57     53818\n",
      "168      Naantali  Varsinais-Suomi         375.56             688.01     19245\n"
     ]
    }
   ],
   "source": [
    "def vesiala(url):\n",
    "    import pandas as pd\n",
    "    df = pd.read_csv(url,sep=';',decimal=',')\n",
    "    cities_df = df[(df[\"kuntamuoto\"] == \"Kaupunki\")]\n",
    "    cities_df.copy()\n",
    "    ks3_df = cities_df[(cities_df[\"maakunta\"] == \"Varsinais-Suomi\") | (cities_df[\"maakunta\"] == \"Etelä-Savo\")].copy()\n",
    "    ks3_df[\"vesipinta-ala\"] = (ks3_df[\"kokonaispinta-ala\"] - ks3_df[\"maapinta-ala\"])\n",
    "    ks3_df = ks3_df.sort_values(by=['vesipinta-ala'],ascending=False)\n",
    "    ks3_df = ks3_df[[\"kunta\",\"maakunta\",\"vesipinta-ala\",\"kokonaispinta-ala\",\"Väkiluku\"]]\n",
    "    tulos = ks3_df.head()\n",
    "    print(tulos)\n",
    "    \n",
    "vesiala(\"https://student.labranet.jamk.fi/~pelju/data_av/sources/kunnat.csv\")"
   ]
  },
  {
   "cell_type": "markdown",
   "id": "09c4ca21-1e68-45a3-bd66-e021ea8329e7",
   "metadata": {},
   "source": [
    "Tehtävä4"
   ]
  },
  {
   "cell_type": "code",
   "execution_count": 178,
   "id": "d0a883c1-b75f-4bf0-ac58-d44ff6cab6fa",
   "metadata": {},
   "outputs": [
    {
     "name": "stdout",
     "output_type": "stream",
     "text": [
      "(12.06, 21.256]     21\n",
      "(21.256, 30.452]    85\n",
      "(30.452, 39.648]    78\n",
      "(39.648, 48.844]    22\n",
      "(48.844, 58.04]     28\n",
      "Name: hintaluokka, dtype: int64\n"
     ]
    }
   ],
   "source": [
    "def sahko(url):\n",
    "    import pandas as pd\n",
    "    import numpy as np\n",
    "    df = pd.read_csv(url)\n",
    "    df = df.mask(df.isin(['.']), other = np.nan)\n",
    "    df['Year Total €/MWh'] = (df['Year Total €/MWh'].astype(float))\n",
    "    minim = df['Year Total €/MWh'].min()\n",
    "    maxim = df['Year Total €/MWh'].max()\n",
    "    lokerot = np.linspace(minim,maxim,6)\n",
    "    result = pd.cut(df['Year Total €/MWh'],lokerot)\n",
    "    df['hintaluokka'] = result\n",
    "    tulos = (df['hintaluokka'].value_counts()).sort_index()\n",
    "    print(tulos)\n",
    "sahko(\"https://student.labranet.jamk.fi/~huoptu/datananal_s20/kerta2/harjoitukset/ehi_010_2020q2.csv\")"
   ]
  },
  {
   "cell_type": "markdown",
   "id": "0503b0d2-736c-4456-8b39-40ff2d5efa91",
   "metadata": {},
   "source": [
    "Tehtävät5"
   ]
  },
  {
   "cell_type": "code",
   "execution_count": 252,
   "id": "7966669a-6a0c-44b9-b032-141faf1e90a8",
   "metadata": {},
   "outputs": [
    {
     "name": "stdout",
     "output_type": "stream",
     "text": [
      "     Year  Below average price  Above average price\n",
      "145  1998                    5                    7\n",
      "146  1999                    5                    7\n",
      "147  2000                    7                    5\n",
      "148  2001                    7                    5\n",
      "149  2002                    9                    3\n",
      "150  2003                    9                    3\n",
      "151  2004                    7                    5\n",
      "152  2005                    5                    7\n",
      "153  2006                    6                    6\n",
      "154  2007                    7                    5\n"
     ]
    }
   ],
   "source": [
    "def suomisahko(url):\n",
    "    import pandas as pd\n",
    "    import numpy as np\n",
    "    df = pd.read_csv(url)\n",
    "    df = df.mask(df.isin(['.']), other = np.nan)\n",
    "    df[df.columns[2:]] = df.iloc[:,2:].astype(float)\n",
    "    fin_df = df[df[\"Price area\"] == \"Finland\"].copy()\n",
    "    fin_df[\"Average €/MWh\"] = fin_df.loc[:, 'January €/MWh':'December €/MWh'].mean(axis=1)\n",
    "    Below_avg = fin_df.loc[:,'January €/MWh':'December €/MWh'].lt(fin_df.loc[:,\"Average €/MWh\"],axis=0).sum(axis=1)\n",
    "    Above_avg = fin_df.loc[:,'January €/MWh':'December €/MWh'].ge(fin_df.loc[:,\"Average €/MWh\"],axis=0).sum(axis=1)\n",
    "    #Below_avg = fin_df.loc[:, 'January €/MWh': 'Average €/MWh'].apply(lambda x: (x['January €/MWh': 'Average €/MWh'][x['January €/MWh': 'Average €/MWh'] < x['Average €/MWh']]).count(), axis=1)\n",
    "    #Above_avg = fin_df.loc[:, 'January €/MWh': 'Average €/MWh'].apply(lambda x: (x['January €/MWh': 'Average €/MWh'][x['January €/MWh': 'Average €/MWh'] > x['Average €/MWh']]).count(), axis=1)\n",
    "    fin_df['Below average price'] = Below_avg\n",
    "    fin_df['Above average price'] = Above_avg\n",
    "    fin_df = fin_df[[\"Year\",\"Below average price\",\"Above average price\"]]\n",
    "    tulos_df = fin_df[fin_df[\"Below average price\"] + fin_df[\"Above average price\"] == 12]\n",
    "    tulos = tulos_df.head(10)\n",
    "    print(tulos)\n",
    "suomisahko(\"https://student.labranet.jamk.fi/~huoptu/datananal_s20/kerta2/harjoitukset/ehi_010_2020q2.csv\")  "
   ]
  }
 ],
 "metadata": {
  "kernelspec": {
   "display_name": "Python 3 (ipykernel)",
   "language": "python",
   "name": "python3"
  },
  "language_info": {
   "codemirror_mode": {
    "name": "ipython",
    "version": 3
   },
   "file_extension": ".py",
   "mimetype": "text/x-python",
   "name": "python",
   "nbconvert_exporter": "python",
   "pygments_lexer": "ipython3",
   "version": "3.9.13"
  }
 },
 "nbformat": 4,
 "nbformat_minor": 5
}
