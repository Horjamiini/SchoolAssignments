{
 "cells": [
  {
   "cell_type": "markdown",
   "id": "ab44629f-ffd9-43b1-a938-7e7d13c98c7f",
   "metadata": {},
   "source": [
    "Tehtävä1"
   ]
  },
  {
   "cell_type": "code",
   "execution_count": 70,
   "id": "339c5e80-8206-479d-acc1-8ed99ab1224f",
   "metadata": {},
   "outputs": [
    {
     "data": {
      "text/html": [
       "<div>\n",
       "<style scoped>\n",
       "    .dataframe tbody tr th:only-of-type {\n",
       "        vertical-align: middle;\n",
       "    }\n",
       "\n",
       "    .dataframe tbody tr th {\n",
       "        vertical-align: top;\n",
       "    }\n",
       "\n",
       "    .dataframe thead th {\n",
       "        text-align: right;\n",
       "    }\n",
       "</style>\n",
       "<table border=\"1\" class=\"dataframe\">\n",
       "  <thead>\n",
       "    <tr style=\"text-align: right;\">\n",
       "      <th></th>\n",
       "      <th>Tyyppi</th>\n",
       "      <th>Keskiarvo</th>\n",
       "      <th>Mediaani</th>\n",
       "      <th>Summa</th>\n",
       "    </tr>\n",
       "  </thead>\n",
       "  <tbody>\n",
       "    <tr>\n",
       "      <th>0</th>\n",
       "      <td>Kaupunki</td>\n",
       "      <td>69525</td>\n",
       "      <td>27592</td>\n",
       "      <td>2155287</td>\n",
       "    </tr>\n",
       "    <tr>\n",
       "      <th>1</th>\n",
       "      <td>Muu kunta</td>\n",
       "      <td>10887</td>\n",
       "      <td>5403</td>\n",
       "      <td>402825</td>\n",
       "    </tr>\n",
       "  </tbody>\n",
       "</table>\n",
       "</div>"
      ],
      "text/plain": [
       "      Tyyppi  Keskiarvo  Mediaani    Summa\n",
       "0   Kaupunki      69525     27592  2155287\n",
       "1  Muu kunta      10887      5403   402825"
      ]
     },
     "execution_count": 70,
     "metadata": {},
     "output_type": "execute_result"
    }
   ],
   "source": [
    "def kuntatilastot(url):\n",
    "    import pandas as pd\n",
    "    df = pd.read_csv(url,sep=';',decimal=',')\n",
    "    df = df[(df['maakunta'] == 'Uusimaa') | (df['maakunta'] == 'Päijät-Häme') | (df['maakunta'] == 'Kanta-Häme') | (df['maakunta'] == 'Pirkanmaa')]\n",
    "    city_df = df[df['kuntamuoto'] == 'Kaupunki'].copy()\n",
    "    other_df = df[df['kuntamuoto'] == 'Muu kunta'].copy()\n",
    "    data = {'Tyyppi': ['Kaupunki','Muu kunta'],\n",
    "            'Keskiarvo': [city_df['Väkiluku'].mean(),other_df['Väkiluku'].mean()],\n",
    "           'Mediaani': [city_df['Väkiluku'].median(),other_df['Väkiluku'].median()],\n",
    "           'Summa': [city_df['Väkiluku'].sum(),other_df['Väkiluku'].sum()]}\n",
    "    \n",
    "    tulos = pd.DataFrame(data)\n",
    "    tulos = tulos.round(decimals={'Keskiarvo':0,'Mediaani':0,'Summa':0})\n",
    "    tulos = tulos.astype({'Keskiarvo':'int32','Mediaani':'int32','Summa':'int32'})\n",
    "    return tulos\n",
    "    \n",
    "\n",
    "kuntatilastot(\"https://student.labranet.jamk.fi/~pelju/data_av/sources/kunnat.csv\")"
   ]
  },
  {
   "cell_type": "markdown",
   "id": "8bf60637-5297-4dfe-bdf9-0c43b99b04a7",
   "metadata": {},
   "source": [
    "Tehtävä2"
   ]
  },
  {
   "cell_type": "code",
   "execution_count": 111,
   "id": "2a9cd655-2881-4438-a040-ccb590f408b9",
   "metadata": {},
   "outputs": [
    {
     "name": "stdout",
     "output_type": "stream",
     "text": [
      "                   Väkiluku  kokonaispinta-ala\n",
      "maakunta                                      \n",
      "Uusimaa              219203            5751.35\n",
      "Pohjois-Pohjanmaa     95571           21035.99\n",
      "Varsinais-Suomi       82793            7327.68\n",
      "Pirkanmaa             79856            4493.22\n",
      "Pohjois-Savo          69339           12357.90\n",
      "Keski-Suomi           69317           11077.61\n"
     ]
    }
   ],
   "source": [
    "def maakunnat(url):\n",
    "    import pandas as pd\n",
    "    df = pd.read_csv(url,sep=';',decimal=',')\n",
    "    other_df = df[df['kuntamuoto'] == 'Muu kunta']\n",
    "    result = other_df.groupby(other_df['maakunta']).sum().sort_values('Väkiluku',ascending=False)\n",
    "    result = result[['Väkiluku','kokonaispinta-ala']]\n",
    "    tulos = result.head(6)\n",
    "    print(tulos)\n",
    "maakunnat(\"https://student.labranet.jamk.fi/~pelju/data_av/sources/kunnat.csv\")"
   ]
  },
  {
   "cell_type": "markdown",
   "id": "057e3f67-a8ed-443a-8af6-84ee0fd0253d",
   "metadata": {},
   "source": [
    "Tehtävä3"
   ]
  },
  {
   "cell_type": "code",
   "execution_count": 23,
   "id": "008cf413-ce54-4d90-8cb6-f7b641982204",
   "metadata": {},
   "outputs": [
    {
     "name": "stdout",
     "output_type": "stream",
     "text": [
      "          kunta  Taajama-aste  ev19-KESK  15-64%\n",
      "75       Kannus          73.2       47.2    58.4\n",
      "305   Ylivieska          86.0       41.2    59.3\n",
      "70     Kalajoki          76.0       41.0    56.8\n",
      "37    Huittinen          70.8       38.2    57.1\n",
      "275      Tornio          87.8       37.9    60.0\n",
      "179    Oulainen          74.5       36.3    56.5\n",
      "87    Kemijärvi          70.1       34.9    52.4\n",
      "261  Suonenjoki          72.0       31.2    55.4\n",
      "217       Raahe          87.1       30.7    57.1\n",
      "194  Pieksämäki          76.1       27.2    57.2\n"
     ]
    }
   ],
   "source": [
    "def kunnat(url):\n",
    "    import pandas as pd\n",
    "    df = pd.read_csv(url,sep=';',decimal=',')\n",
    "    df = df[(df['kuntamuoto'] == 'Kaupunki')].fillna(0)\n",
    "    df2 = df[(df['Taajama-aste'] > 70) & (df['ev19-KESK'] > df['ev19-PS']) & (df['ev19-KESK'] > df['ev19-KOK']) & (df['ev19-KESK'] > df['ev19-VIHR']) & (df['ev19-KESK'] > df['ev19-RKP']) & (df['ev19-KESK'] > df['ev19-SDP'])].sort_values('ev19-KESK',ascending=False)\n",
    "    df2['15-64%'] = 100 - (df2['Alle 15-v. osuus%'] + df2['Yli 64-v. osuus%'])\n",
    "    tulos = df2[['kunta','Taajama-aste','ev19-KESK','15-64%']]\n",
    "    tulos = tulos.head(10)\n",
    "    print(tulos)\n",
    "kunnat(\"https://student.labranet.jamk.fi/~pelju/data_av/sources/kunnat.csv\")"
   ]
  },
  {
   "cell_type": "markdown",
   "id": "2b59b7d3-e686-4a76-a207-1e017a153a7c",
   "metadata": {},
   "source": [
    "Tehtävä4"
   ]
  },
  {
   "cell_type": "code",
   "execution_count": 83,
   "id": "7c58b158-4b97-4f3c-b143-bd132e462f6a",
   "metadata": {},
   "outputs": [
    {
     "name": "stdout",
     "output_type": "stream",
     "text": [
      "45 Capture of greenhouse gases under Directive 2009/31/EC       14\n",
      "46 Transport of greenhouse gases under Directive 2009/31/EC     22\n",
      "40 Production of glyoxal and glyoxylic acid                     37\n",
      "39 Production of adipic acid                                    43\n",
      "44 Production of soda ash and sodium bicarbonate               325\n",
      "Name: sector, dtype: int64\n"
     ]
    }
   ],
   "source": [
    "def emissions(url):\n",
    "    import pandas as pd\n",
    "    df = pd.read_csv(url,sep='\\\\t',engine='python')\n",
    "    df.rename(columns={'\"country':'country','year\"':'year'},inplace=True)\n",
    "    df['country'] = df['country'].map(lambda x: x.lstrip('\"'))\n",
    "    df['year'] = df['year'].map(lambda x: x.rstrip('\"'))\n",
    "    df = df[(df['main activity sector name'] != '20-99 All stationary installations') & (df['main activity sector name'] != '21-99 All industrial installations (excl. combustion)')]\n",
    "    tulos = df['main activity sector name'].value_counts().sort_values().copy()\n",
    "    tulos.rename('sector',inplace=True)\n",
    "    tulos = tulos.head(5)\n",
    "    print(tulos)\n",
    "emissions(\"https://student.labranet.jamk.fi/~huoptu/datananal_s20/kerta3/harjoitukset/ETS_Database_v38A.csv\")"
   ]
  },
  {
   "cell_type": "markdown",
   "id": "ef176e01-19f4-4456-b57d-ae1479cf933a",
   "metadata": {},
   "source": [
    "Tehtävä5"
   ]
  },
  {
   "cell_type": "code",
   "execution_count": 123,
   "id": "32e7177f-952f-4b6a-8ad9-b242c82e3cf1",
   "metadata": {},
   "outputs": [
    {
     "name": "stdout",
     "output_type": "stream",
     "text": [
      "           value                               sector\n",
      "1   1.273006e+10               20 Combustion of fuels\n",
      "5   2.053915e+09  24  Production of pig iron or steel\n",
      "10  1.803550e+09      29 Production of cement clinker\n",
      "2   1.678130e+09          21  Refining of mineral oil\n",
      "0   5.644274e+08                          10 Aviation\n"
     ]
    }
   ],
   "source": [
    "def emissions(url):\n",
    "    import pandas as pd\n",
    "    df = pd.read_csv(url,sep='\\\\t',engine='python')\n",
    "    df.rename(columns={'\"country':'country','year\"':'year'},inplace=True)\n",
    "    df['country'] = df['country'].map(lambda x: x.lstrip('\"'))\n",
    "    df['year'] = df['year'].map(lambda x: x.rstrip('\"'))\n",
    "    df = df[['main activity sector name','value','year']].copy()\n",
    "    df = df[(df['main activity sector name'] != '20-99 All stationary installations') & (df['main activity sector name'] != '21-99 All industrial installations (excl. combustion)')]\n",
    "    df2 = df[(df['year'] >= '2010') & (df['year'] <= '2015')]\n",
    "    result = df2.groupby('main activity sector name',as_index=False).sum().sort_values(by='value',ascending=False)\n",
    "    result = result.iloc[:,[1,0]]\n",
    "    result.rename(columns=({'main activity sector name':'sector'}),inplace=True)\n",
    "    tulos = result.head(5)\n",
    "    print(tulos)\n",
    "emissions(\"https://student.labranet.jamk.fi/~huoptu/datananal_s20/kerta3/harjoitukset/ETS_Database_v38A.csv\")"
   ]
  }
 ],
 "metadata": {
  "kernelspec": {
   "display_name": "Python 3 (ipykernel)",
   "language": "python",
   "name": "python3"
  },
  "language_info": {
   "codemirror_mode": {
    "name": "ipython",
    "version": 3
   },
   "file_extension": ".py",
   "mimetype": "text/x-python",
   "name": "python",
   "nbconvert_exporter": "python",
   "pygments_lexer": "ipython3",
   "version": "3.9.13"
  }
 },
 "nbformat": 4,
 "nbformat_minor": 5
}
