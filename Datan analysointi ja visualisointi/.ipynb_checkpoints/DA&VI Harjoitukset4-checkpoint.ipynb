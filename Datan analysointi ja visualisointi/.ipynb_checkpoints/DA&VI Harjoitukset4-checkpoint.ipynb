{
 "cells": [
  {
   "cell_type": "markdown",
   "id": "93667400-d15c-4914-a94e-854bae9cf745",
   "metadata": {},
   "source": [
    "Tehtävä1"
   ]
  },
  {
   "cell_type": "code",
   "execution_count": 29,
   "id": "6833888a-6e8e-4741-81a0-94de354feb4c",
   "metadata": {},
   "outputs": [
    {
     "name": "stdout",
     "output_type": "stream",
     "text": [
      "OCTAVIA    396\n",
      "FABIA      377\n",
      "RAPID      197\n",
      "SUPERB     159\n",
      "KAROQ      148\n",
      "Name: Cn, dtype: int64\n"
     ]
    }
   ],
   "source": [
    "def autot(url1,url2):\n",
    "    import pandas as pd\n",
    "    df1 = pd.read_csv(url1,sep=';')\n",
    "    df2 = pd.read_csv(url2,sep=';')\n",
    "    df3 = pd.concat([df1,df2])\n",
    "    result = df3['Cn'].value_counts().sort_values(ascending=False)\n",
    "    tulos = result.head()\n",
    "    print(tulos)\n",
    "autot(\"https://student.labranet.jamk.fi/~huoptu/datananal_s20/kerta4/harjoitukset/autotA1.csv\", \"https://student.labranet.jamk.fi/~huoptu/datananal_s20/kerta4/harjoitukset/autotA2.csv\")"
   ]
  },
  {
   "cell_type": "code",
   "execution_count": null,
   "id": "d7d24cdb-c83b-4042-b37f-018b0dc260da",
   "metadata": {},
   "outputs": [],
   "source": [
    "Tehtävä2"
   ]
  },
  {
   "cell_type": "code",
   "execution_count": null,
   "id": "69ec05fc-8eee-439b-a941-b4638b5e2e49",
   "metadata": {},
   "outputs": [],
   "source": [
    "def autot(url_a1, url_a2, url_b1, url_b2):\n",
    "    df1 = pd.read_csv(url_a1,sep=';')\n",
    "    df2 = pd.read_csv(url_a2,sep=';')\n",
    "    df3 = pd.read_csv(url_b1,sep=';')\n",
    "    df4 = pd.read_csv(url_b2,sep=';')\n",
    "    print(tulos)\n",
    "autot(\"https://student.labranet.jamk.fi/~huoptu/datananal_s20/kerta4/harjoitukset/autotA1.csv\", \"https://student.labranet.jamk.fi/~huoptu/datananal_s20/kerta4/harjoitukset/autotA2.csv\", \"https://student.labranet.jamk.fi/~huoptu/datananal_s20/kerta4/harjoitukset/autotB1.csv\", \"https://student.labranet.jamk.fi/~huoptu/datananal_s20/kerta4/harjoitukset/autotB2.csv\")"
   ]
  }
 ],
 "metadata": {
  "kernelspec": {
   "display_name": "Python 3 (ipykernel)",
   "language": "python",
   "name": "python3"
  },
  "language_info": {
   "codemirror_mode": {
    "name": "ipython",
    "version": 3
   },
   "file_extension": ".py",
   "mimetype": "text/x-python",
   "name": "python",
   "nbconvert_exporter": "python",
   "pygments_lexer": "ipython3",
   "version": "3.9.13"
  }
 },
 "nbformat": 4,
 "nbformat_minor": 5
}
