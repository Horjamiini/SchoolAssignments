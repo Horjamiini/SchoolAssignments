{
 "cells": [
  {
   "cell_type": "markdown",
   "id": "d36dd3c0-5181-406b-bdc9-fbc8b2dd22ea",
   "metadata": {},
   "source": [
    "Tehtävä1"
   ]
  },
  {
   "cell_type": "code",
   "execution_count": 1,
   "id": "52f1a8b5-6deb-4272-805a-85270298d324",
   "metadata": {},
   "outputs": [
    {
     "name": "stdout",
     "output_type": "stream",
     "text": [
      "          kunta  maapinta-ala  kokonaispinta-ala  Väkiluku\n",
      "65        Jämsä       1571.36            1823.90     20607\n",
      "92       Keuruu       1257.97            1430.57      9762\n",
      "234  Saarijärvi       1251.72            1422.72      9415\n",
      "298  Viitasaari       1248.55            1589.12      6264\n",
      "63    Jyväskylä       1170.97            1466.35    141305\n"
     ]
    }
   ],
   "source": [
    "import pandas as pd\n",
    "def ks_kunnat(url): \n",
    "    df = pd.read_csv(url,sep=';',decimal=',')    \n",
    "    ks_df = df[(df[\"maakunta\"] == \"Keski-Suomi\") & (df[\"kokonaispinta-ala\"] > 1000)]\n",
    "    ks_df = ks_df[[\"kunta\",\"maapinta-ala\",\"kokonaispinta-ala\",\"Väkiluku\"]]\n",
    "    ks_df = ks_df.sort_values(by=['maapinta-ala'],ascending=False)\n",
    "    tulos = ks_df.head()\n",
    "    print(tulos)\n",
    "ks_kunnat(\"https://student.labranet.jamk.fi/~pelju/data_av/sources/kunnat.csv\")"
   ]
  },
  {
   "cell_type": "markdown",
   "id": "615fdf77-2847-4b87-b84e-e5b9000187b6",
   "metadata": {},
   "source": [
    "Tehtävät2"
   ]
  },
  {
   "cell_type": "code",
   "execution_count": 2,
   "id": "7416f84e-92d0-4830-855c-12d2e6a5b454",
   "metadata": {},
   "outputs": [
    {
     "name": "stdout",
     "output_type": "stream",
     "text": [
      "            maakunta       kunta  Väkiluku\n",
      "22   Keski-Pohjanmaa      Halsua      1165\n",
      "75   Keski-Pohjanmaa      Kannus      5502\n",
      "84   Keski-Pohjanmaa   Kaustinen      4273\n",
      "136  Keski-Pohjanmaa  Lestijärvi       737\n",
      "191  Keski-Pohjanmaa       Perho      2825\n"
     ]
    }
   ],
   "source": [
    "def kunnat(url):\n",
    "    import pandas as pd\n",
    "    df = pd.read_csv(url,sep=';',decimal=',')\n",
    "    ks2_df = df[(df[\"maakunta\"] == \"Keski-Suomi\") & (df[\"Väkiluku\"] < 10000) | (df[\"maakunta\"] == \"Uusimaa\") & (df[\"Väkiluku\"] < 10000) | (df[\"maakunta\"] == \"Keski-Pohjanmaa\") & (df[\"Väkiluku\"] < 10000)]\n",
    "    newks_df = ks2_df.sort_values(by=['maakunta','kunta'])\n",
    "    newks_df = newks_df[[\"maakunta\",\"kunta\",\"Väkiluku\"]]\n",
    "    tulos = newks_df.head()\n",
    "    print(tulos)\n",
    "kunnat(\"https://student.labranet.jamk.fi/~pelju/data_av/sources/kunnat.csv\")"
   ]
  },
  {
   "cell_type": "markdown",
   "id": "a9b2f71b-0c19-44cc-9928-beb8033ed9b8",
   "metadata": {},
   "source": [
    "Tehtävä3"
   ]
  },
  {
   "cell_type": "code",
   "execution_count": 15,
   "id": "680d780b-b07f-4a6a-a25a-5d757ccf2cf8",
   "metadata": {},
   "outputs": [
    {
     "name": "stdout",
     "output_type": "stream",
     "text": [
      "            kunta         maakunta  vesipinta-ala  kokonaispinta-ala  Väkiluku\n",
      "185      Parainen  Varsinais-Suomi        4664.99            5548.11     15217\n",
      "286  Uusikaupunki  Varsinais-Suomi        1429.68            1932.43     15700\n",
      "241    Savonlinna       Etelä-Savo        1359.61            3597.70     33611\n",
      "157       Mikkeli       Etelä-Savo         681.21            3229.57     53818\n",
      "168      Naantali  Varsinais-Suomi         375.56             688.01     19245\n"
     ]
    }
   ],
   "source": [
    "def vesiala(url):\n",
    "    import pandas as pd\n",
    "    df = pd.read_csv(url,sep=';',decimal=',')\n",
    "    cities_df = df[(df[\"kuntamuoto\"] == \"Kaupunki\")]\n",
    "    cities_df.copy()\n",
    "    ks3_df = cities_df[(cities_df[\"maakunta\"] == \"Varsinais-Suomi\") | (cities_df[\"maakunta\"] == \"Etelä-Savo\")].copy()\n",
    "    ks3_df[\"vesipinta-ala\"] = (ks3_df[\"kokonaispinta-ala\"] - ks3_df[\"maapinta-ala\"])\n",
    "    ks3_df = ks3_df.sort_values(by=['vesipinta-ala'],ascending=False)\n",
    "    ks3_df = ks3_df[[\"kunta\",\"maakunta\",\"vesipinta-ala\",\"kokonaispinta-ala\",\"Väkiluku\"]]\n",
    "    tulos = ks3_df.head()\n",
    "    print(tulos)\n",
    "    \n",
    "vesiala(\"https://student.labranet.jamk.fi/~pelju/data_av/sources/kunnat.csv\")"
   ]
  },
  {
   "cell_type": "markdown",
   "id": "09c4ca21-1e68-45a3-bd66-e021ea8329e7",
   "metadata": {},
   "source": [
    "Tehtävä4"
   ]
  },
  {
   "cell_type": "code",
   "execution_count": 18,
   "id": "d0a883c1-b75f-4bf0-ac58-d44ff6cab6fa",
   "metadata": {},
   "outputs": [
    {
     "name": "stdout",
     "output_type": "stream",
     "text": [
      "    Price area  Year Year Total €/MWh January €/MWh February €/MWh  \\\n",
      "0       System  1997                .             .              .   \n",
      "1       System  1998                .         20.01          17.92   \n",
      "2       System  1999            13.46         15.95          14.68   \n",
      "3       System  2000            12.75         16.22          12.89   \n",
      "4       System  2001            23.15         20.46          27.06   \n",
      "..         ...   ...              ...           ...            ...   \n",
      "451  Lithuania  2016            36.54         50.32          29.65   \n",
      "452  Lithuania  2017            35.15         36.88          36.45   \n",
      "453  Lithuania  2018                .         37.62          43.49   \n",
      "454  Lithuania  2019                .         56.50          46.97   \n",
      "455  Lithuania  2020                .         30.82          27.77   \n",
      "\n",
      "    March €/MWh April €/MWh May €/MWh June €/MWh July €/MWh August €/MWh  \\\n",
      "0             .           .         .          .          .            .   \n",
      "1         15.93       14.92     13.10      14.29       8.25         6.42   \n",
      "2         12.38       10.56     11.31      10.02       8.33        13.33   \n",
      "3         11.78       12.80      9.51      10.44       6.35         9.79   \n",
      "4         25.86       26.46     24.07      25.28      22.63        21.36   \n",
      "..          ...         ...       ...        ...        ...          ...   \n",
      "451       30.81       33.03     32.87      40.53      39.23        33.78   \n",
      "452       31.27       31.42     32.46      38.36      36.27        37.30   \n",
      "453       46.08       40.18     43.69      51.05      54.56        59.03   \n",
      "454       39.99       43.52     44.11      44.65      48.94        49.37   \n",
      "455       24.00       23.31     24.52      38.65          .            .   \n",
      "\n",
      "    September €/MWh October €/MWh November €/MWh December €/MWh  \n",
      "0                 .             .              .              .  \n",
      "1              9.28         12.23          16.50          16.97  \n",
      "2             16.09         16.23          15.35          17.35  \n",
      "3             14.18         15.43          16.78          16.92  \n",
      "4             20.88         19.10          21.41          23.61  \n",
      "..              ...           ...            ...            ...  \n",
      "451           34.03         38.47          40.57          34.79  \n",
      "452           37.79         34.35          36.20          33.06  \n",
      "453           59.11         55.68          55.42          53.62  \n",
      "454           48.79         46.96          44.70          38.97  \n",
      "455               .             .              .              .  \n",
      "\n",
      "[456 rows x 15 columns]\n"
     ]
    }
   ],
   "source": [
    "def sahko(url):\n",
    "    import pandas as pd\n",
    "    df = pd.read_csv(url)\n",
    "    df[df[]]\n",
    "    print(df)\n",
    "    \n",
    "sahko(\"https://student.labranet.jamk.fi/~huoptu/datananal_s20/kerta2/harjoitukset/ehi_010_2020q2.csv\")"
   ]
  }
 ],
 "metadata": {
  "kernelspec": {
   "display_name": "Python 3 (ipykernel)",
   "language": "python",
   "name": "python3"
  },
  "language_info": {
   "codemirror_mode": {
    "name": "ipython",
    "version": 3
   },
   "file_extension": ".py",
   "mimetype": "text/x-python",
   "name": "python",
   "nbconvert_exporter": "python",
   "pygments_lexer": "ipython3",
   "version": "3.9.13"
  }
 },
 "nbformat": 4,
 "nbformat_minor": 5
}
