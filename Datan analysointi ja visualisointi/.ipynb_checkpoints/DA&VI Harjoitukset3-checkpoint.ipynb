{
 "cells": [
  {
   "cell_type": "markdown",
   "id": "ab44629f-ffd9-43b1-a938-7e7d13c98c7f",
   "metadata": {},
   "source": [
    "Tehtävä1"
   ]
  },
  {
   "cell_type": "code",
   "execution_count": 70,
   "id": "339c5e80-8206-479d-acc1-8ed99ab1224f",
   "metadata": {},
   "outputs": [
    {
     "data": {
      "text/html": [
       "<div>\n",
       "<style scoped>\n",
       "    .dataframe tbody tr th:only-of-type {\n",
       "        vertical-align: middle;\n",
       "    }\n",
       "\n",
       "    .dataframe tbody tr th {\n",
       "        vertical-align: top;\n",
       "    }\n",
       "\n",
       "    .dataframe thead th {\n",
       "        text-align: right;\n",
       "    }\n",
       "</style>\n",
       "<table border=\"1\" class=\"dataframe\">\n",
       "  <thead>\n",
       "    <tr style=\"text-align: right;\">\n",
       "      <th></th>\n",
       "      <th>Tyyppi</th>\n",
       "      <th>Keskiarvo</th>\n",
       "      <th>Mediaani</th>\n",
       "      <th>Summa</th>\n",
       "    </tr>\n",
       "  </thead>\n",
       "  <tbody>\n",
       "    <tr>\n",
       "      <th>0</th>\n",
       "      <td>Kaupunki</td>\n",
       "      <td>69525</td>\n",
       "      <td>27592</td>\n",
       "      <td>2155287</td>\n",
       "    </tr>\n",
       "    <tr>\n",
       "      <th>1</th>\n",
       "      <td>Muu kunta</td>\n",
       "      <td>10887</td>\n",
       "      <td>5403</td>\n",
       "      <td>402825</td>\n",
       "    </tr>\n",
       "  </tbody>\n",
       "</table>\n",
       "</div>"
      ],
      "text/plain": [
       "      Tyyppi  Keskiarvo  Mediaani    Summa\n",
       "0   Kaupunki      69525     27592  2155287\n",
       "1  Muu kunta      10887      5403   402825"
      ]
     },
     "execution_count": 70,
     "metadata": {},
     "output_type": "execute_result"
    }
   ],
   "source": [
    "def kuntatilastot(url):\n",
    "    import pandas as pd\n",
    "    df = pd.read_csv(url,sep=';',decimal=',')\n",
    "    df = df[(df['maakunta'] == 'Uusimaa') | (df['maakunta'] == 'Päijät-Häme') | (df['maakunta'] == 'Kanta-Häme') | (df['maakunta'] == 'Pirkanmaa')]\n",
    "    city_df = df[df['kuntamuoto'] == 'Kaupunki'].copy()\n",
    "    other_df = df[df['kuntamuoto'] == 'Muu kunta'].copy()\n",
    "    data = {'Tyyppi': ['Kaupunki','Muu kunta'],\n",
    "            'Keskiarvo': [city_df['Väkiluku'].mean(),other_df['Väkiluku'].mean()],\n",
    "           'Mediaani': [city_df['Väkiluku'].median(),other_df['Väkiluku'].median()],\n",
    "           'Summa': [city_df['Väkiluku'].sum(),other_df['Väkiluku'].sum()]}\n",
    "    \n",
    "    tulos = pd.DataFrame(data)\n",
    "    tulos = tulos.round(decimals={'Keskiarvo':0,'Mediaani':0,'Summa':0})\n",
    "    tulos = tulos.astype({'Keskiarvo':'int32','Mediaani':'int32','Summa':'int32'})\n",
    "    return tulos\n",
    "    \n",
    "\n",
    "kuntatilastot(\"https://student.labranet.jamk.fi/~pelju/data_av/sources/kunnat.csv\")"
   ]
  },
  {
   "cell_type": "markdown",
   "id": "8bf60637-5297-4dfe-bdf9-0c43b99b04a7",
   "metadata": {},
   "source": [
    "Tehtävä2"
   ]
  },
  {
   "cell_type": "code",
   "execution_count": 111,
   "id": "2a9cd655-2881-4438-a040-ccb590f408b9",
   "metadata": {},
   "outputs": [
    {
     "name": "stdout",
     "output_type": "stream",
     "text": [
      "                   Väkiluku  kokonaispinta-ala\n",
      "maakunta                                      \n",
      "Uusimaa              219203            5751.35\n",
      "Pohjois-Pohjanmaa     95571           21035.99\n",
      "Varsinais-Suomi       82793            7327.68\n",
      "Pirkanmaa             79856            4493.22\n",
      "Pohjois-Savo          69339           12357.90\n",
      "Keski-Suomi           69317           11077.61\n"
     ]
    }
   ],
   "source": [
    "def maakunnat(url):\n",
    "    import pandas as pd\n",
    "    df = pd.read_csv(url,sep=';',decimal=',')\n",
    "    other_df = df[df['kuntamuoto'] == 'Muu kunta']\n",
    "    result = other_df.groupby(other_df['maakunta']).sum().sort_values('Väkiluku',ascending=False)\n",
    "    result = result[['Väkiluku','kokonaispinta-ala']]\n",
    "    tulos = result.head(6)\n",
    "    print(tulos)\n",
    "maakunnat(\"https://student.labranet.jamk.fi/~pelju/data_av/sources/kunnat.csv\")"
   ]
  }
 ],
 "metadata": {
  "kernelspec": {
   "display_name": "Python 3 (ipykernel)",
   "language": "python",
   "name": "python3"
  },
  "language_info": {
   "codemirror_mode": {
    "name": "ipython",
    "version": 3
   },
   "file_extension": ".py",
   "mimetype": "text/x-python",
   "name": "python",
   "nbconvert_exporter": "python",
   "pygments_lexer": "ipython3",
   "version": "3.9.13"
  }
 },
 "nbformat": 4,
 "nbformat_minor": 5
}
