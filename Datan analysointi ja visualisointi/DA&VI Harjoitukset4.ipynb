{
 "cells": [
  {
   "cell_type": "markdown",
   "id": "93667400-d15c-4914-a94e-854bae9cf745",
   "metadata": {},
   "source": [
    "Tehtävä1"
   ]
  },
  {
   "cell_type": "code",
   "execution_count": 1,
   "id": "6833888a-6e8e-4741-81a0-94de354feb4c",
   "metadata": {},
   "outputs": [
    {
     "name": "stdout",
     "output_type": "stream",
     "text": [
      "OCTAVIA    396\n",
      "FABIA      377\n",
      "RAPID      197\n",
      "SUPERB     159\n",
      "KAROQ      148\n",
      "Name: Cn, dtype: int64\n"
     ]
    }
   ],
   "source": [
    "def autot(url1,url2):\n",
    "    import pandas as pd\n",
    "    df1 = pd.read_csv(url1,sep=';')\n",
    "    df2 = pd.read_csv(url2,sep=';')\n",
    "    df3 = pd.concat([df1,df2])\n",
    "    result = df3['Cn'].value_counts().sort_values(ascending=False)\n",
    "    tulos = result.head()\n",
    "    print(tulos)\n",
    "autot(\"https://student.labranet.jamk.fi/~huoptu/datananal_s20/kerta4/harjoitukset/autotA1.csv\", \"https://student.labranet.jamk.fi/~huoptu/datananal_s20/kerta4/harjoitukset/autotA2.csv\")"
   ]
  },
  {
   "cell_type": "markdown",
   "id": "26d6703f-2d8a-42d9-a9bb-fe9a35358ca2",
   "metadata": {},
   "source": [
    "Tehtävä2"
   ]
  },
  {
   "cell_type": "code",
   "execution_count": 2,
   "id": "69ec05fc-8eee-439b-a941-b4638b5e2e49",
   "metadata": {},
   "outputs": [
    {
     "name": "stdout",
     "output_type": "stream",
     "text": [
      "                Mh     ep (KW)\n",
      "6            TESLA  386.000000\n",
      "0           AA-IVA  267.750000\n",
      "2  FORD WERKE GMBH   89.741007\n",
      "5            SKODA   81.372515\n",
      "3              KIA   77.000000\n"
     ]
    }
   ],
   "source": [
    "def autot(url_a1, url_a2, url_b1, url_b2):\n",
    "    import pandas as pd\n",
    "    df1 = pd.read_csv(url_a1,sep=';')\n",
    "    df2 = pd.read_csv(url_a2,sep=';')\n",
    "    df3 = pd.read_csv(url_b1,sep=';')\n",
    "    df4 = pd.read_csv(url_b2,sep=';')\n",
    "    dfa = pd.concat([df1,df2])\n",
    "    dfb = pd.concat([df3,df4])\n",
    "    df = pd.merge(dfa,dfb, on='ID')\n",
    "    df.fillna({'ep (KW)':0},inplace=True)\n",
    "    tulos = pd.DataFrame(df[['Mh','ep (KW)']]).groupby('Mh',as_index=False).mean().sort_values(by='ep (KW)',ascending=False)\n",
    "    tulos = tulos.head()\n",
    "    print(tulos)\n",
    "autot(\"https://student.labranet.jamk.fi/~huoptu/datananal_s20/kerta4/harjoitukset/autotA1.csv\", \"https://student.labranet.jamk.fi/~huoptu/datananal_s20/kerta4/harjoitukset/autotA2.csv\", \"https://student.labranet.jamk.fi/~huoptu/datananal_s20/kerta4/harjoitukset/autotB1.csv\", \"https://student.labranet.jamk.fi/~huoptu/datananal_s20/kerta4/harjoitukset/autotB2.csv\")"
   ]
  },
  {
   "cell_type": "markdown",
   "id": "009ab792-4931-45af-807e-d6faeabe4382",
   "metadata": {},
   "source": [
    "Tehtävä3"
   ]
  },
  {
   "cell_type": "code",
   "execution_count": 3,
   "id": "d6e51843-ba5c-41c7-b303-248ed88c6796",
   "metadata": {},
   "outputs": [
    {
     "name": "stdout",
     "output_type": "stream",
     "text": [
      "Ft                   Diesel  Petrol\n",
      "Mh                                 \n",
      "AA-IVA                129.0   194.7\n",
      "AUTOMOBILES CITROEN   102.7   105.6\n",
      "FORD WERKE GMBH       112.9   133.7\n",
      "KIA                     NaN    88.0\n",
      "NISSAN                112.3   127.7\n"
     ]
    }
   ],
   "source": [
    "def autot(url_a1, url_a2, url_b1, url_b2):\n",
    "    import pandas as pd\n",
    "    df1 = pd.read_csv(url_a1,sep=';')\n",
    "    df2 = pd.read_csv(url_a2,sep=';')\n",
    "    df3 = pd.read_csv(url_b1,sep=';')\n",
    "    df4 = pd.read_csv(url_b2,sep=';')\n",
    "    dfa = pd.concat([df1,df2])\n",
    "    dfb = pd.concat([df3,df4])\n",
    "    df = pd.merge(dfa,dfb, on='ID')\n",
    "    df['Ft'].replace({'DIESEL':'Diesel','PETROL':'Petrol'},inplace=True)\n",
    "    result = pd.crosstab(df['Mh'],df['Ft'], values= df['Enedc (g/km)'], aggfunc='mean').round(1)\n",
    "    tulosdf = result[['Diesel','Petrol']]\n",
    "    tulos = tulosdf.head()\n",
    "    print(tulos)\n",
    "    \n",
    "autot(\"https://student.labranet.jamk.fi/~huoptu/datananal_s20/kerta4/harjoitukset/autotA1.csv\", \"https://student.labranet.jamk.fi/~huoptu/datananal_s20/kerta4/harjoitukset/autotA2.csv\", \"https://student.labranet.jamk.fi/~huoptu/datananal_s20/kerta4/harjoitukset/autotB1.csv\", \"https://student.labranet.jamk.fi/~huoptu/datananal_s20/kerta4/harjoitukset/autotB2.csv\")"
   ]
  },
  {
   "cell_type": "markdown",
   "id": "ddf1edb9-14a9-403b-9f57-c8cd1130750e",
   "metadata": {},
   "source": [
    "Tehtävä4"
   ]
  },
  {
   "cell_type": "code",
   "execution_count": 4,
   "id": "b67c1474-72e7-4d38-a2d4-20f5acd4508a",
   "metadata": {},
   "outputs": [
    {
     "name": "stdout",
     "output_type": "stream",
     "text": [
      "                     ec (cm3)          \n",
      "Ft                     Diesel    Petrol\n",
      "Mh                                     \n",
      "AA-IVA                 1995.0    3596.0\n",
      "AUTOMOBILES CITROEN    1560.0    1131.0\n",
      "FORD WERKE GMBH        1615.1    1291.5\n",
      "KIA                  no value    1580.0\n",
      "NISSAN                 1559.4    1247.5\n",
      "SKODA                  1799.5    1190.6\n",
      "TESLA                no value  no value\n"
     ]
    }
   ],
   "source": [
    "def autot(url_a1, url_a2, url_b1, url_b2):\n",
    "    import pandas as pd\n",
    "    import numpy as np\n",
    "    df1 = pd.read_csv(url_a1,sep=';')\n",
    "    df2 = pd.read_csv(url_a2,sep=';')\n",
    "    df3 = pd.read_csv(url_b1,sep=';')\n",
    "    df4 = pd.read_csv(url_b2,sep=';')\n",
    "    dfa = pd.concat([df1,df2])\n",
    "    dfb = pd.concat([df3,df4])\n",
    "    df = pd.merge(dfa,dfb, on='ID')\n",
    "    df['Ft'].replace({'DIESEL':'Diesel','PETROL':'Petrol'},inplace=True)\n",
    "    result = df.pivot_table(['ec (cm3)'],index=['Mh'],columns=['Ft'],dropna=False).round(1)\n",
    "    result.drop(['NG','Electric'],axis=1,level=1,inplace=True)\n",
    "    result.fillna('no value',inplace=True)\n",
    "    tulos = result.head(10)\n",
    "    print(tulos)\n",
    "    \n",
    "autot(\"https://student.labranet.jamk.fi/~huoptu/datananal_s20/kerta4/harjoitukset/autotA1.csv\", \"https://student.labranet.jamk.fi/~huoptu/datananal_s20/kerta4/harjoitukset/autotA2.csv\", \"https://student.labranet.jamk.fi/~huoptu/datananal_s20/kerta4/harjoitukset/autotB1.csv\", \"https://student.labranet.jamk.fi/~huoptu/datananal_s20/kerta4/harjoitukset/autotB2.csv\")"
   ]
  },
  {
   "cell_type": "markdown",
   "id": "5705cca2-c850-4c48-a386-d9c8d68b4d03",
   "metadata": {},
   "source": [
    "Tehtävä5"
   ]
  },
  {
   "cell_type": "code",
   "execution_count": 60,
   "id": "d03a2c68-33c1-40cf-8866-019ebf3bf0b7",
   "metadata": {},
   "outputs": [
    {
     "name": "stdout",
     "output_type": "stream",
     "text": [
      "             Avg emissions (g/km)           \n",
      "Fuel type                  Diesel Petrol D-P\n",
      "Member State                                \n",
      "EE                            132    108  25\n",
      "FI                            137    112  25\n",
      "LV                            131    108  23\n",
      "GR                            122    100  22\n",
      "CZ                            122    110  12\n"
     ]
    }
   ],
   "source": [
    "def autot(url_a1, url_a2, url_b1, url_b2):\n",
    "    import pandas as pd\n",
    "    df1 = pd.read_csv(url_a1,sep=';')\n",
    "    df2 = pd.read_csv(url_a2,sep=';')\n",
    "    df3 = pd.read_csv(url_b1,sep=';')\n",
    "    df4 = pd.read_csv(url_b2,sep=';')\n",
    "    dfa = pd.concat([df1,df2])\n",
    "    dfb = pd.concat([df3,df4])\n",
    "    df = pd.merge(dfa,dfb, on='ID')\n",
    "    df['Ft'].replace({'DIESEL':'Diesel','PETROL':'Petrol'},inplace=True)\n",
    "    data_df = df[['Enedc (g/km)','MS','Ft']].copy()\n",
    "    data_df.rename(columns={'Enedc (g/km)':'Avg emissions (g/km)','MS':'Member State','Ft':'Fuel type'},inplace=True)\n",
    "    result = data_df.pivot_table(['Avg emissions (g/km)'],index=['Member State'],columns=['Fuel type'],dropna=False)\n",
    "    result.drop(['NG','Electric'],axis=1,level=1,inplace=True)\n",
    "    result['Avg emissions (g/km)','D-P'] = result['Avg emissions (g/km)','Diesel'] - result['Avg emissions (g/km)','Petrol']\n",
    "    tulos = result.sort_values(('Avg emissions (g/km)','D-P'),ascending=False).round(0).applymap(lambda x: \"{:.0F}\".format(x)).head()\n",
    "    print(tulos)\n",
    "autot(\"https://student.labranet.jamk.fi/~huoptu/datananal_s20/kerta4/harjoitukset/autotA1.csv\", \"https://student.labranet.jamk.fi/~huoptu/datananal_s20/kerta4/harjoitukset/autotA2.csv\", \"https://student.labranet.jamk.fi/~huoptu/datananal_s20/kerta4/harjoitukset/autotB1.csv\", \"https://student.labranet.jamk.fi/~huoptu/datananal_s20/kerta4/harjoitukset/autotB2.csv\")"
   ]
  }
 ],
 "metadata": {
  "kernelspec": {
   "display_name": "Python 3 (ipykernel)",
   "language": "python",
   "name": "python3"
  },
  "language_info": {
   "codemirror_mode": {
    "name": "ipython",
    "version": 3
   },
   "file_extension": ".py",
   "mimetype": "text/x-python",
   "name": "python",
   "nbconvert_exporter": "python",
   "pygments_lexer": "ipython3",
   "version": "3.9.13"
  }
 },
 "nbformat": 4,
 "nbformat_minor": 5
}
